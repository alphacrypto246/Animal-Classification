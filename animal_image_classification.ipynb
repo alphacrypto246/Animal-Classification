{
  "nbformat": 4,
  "nbformat_minor": 0,
  "metadata": {
    "colab": {
      "provenance": [],
      "gpuType": "V28"
    },
    "kernelspec": {
      "name": "python3",
      "display_name": "Python 3"
    },
    "language_info": {
      "name": "python"
    },
    "accelerator": "TPU"
  },
  "cells": [
    {
      "cell_type": "code",
      "source": [
        "!pip install ultralytics"
      ],
      "metadata": {
        "colab": {
          "base_uri": "https://localhost:8080/"
        },
        "id": "FXXuXrYzNkAw",
        "outputId": "a1cb5cd8-4824-4e24-9104-c0d9edf0da7f"
      },
      "execution_count": 1,
      "outputs": [
        {
          "output_type": "stream",
          "name": "stdout",
          "text": [
            "Requirement already satisfied: ultralytics in /usr/local/lib/python3.11/dist-packages (8.3.152)\n",
            "Requirement already satisfied: numpy>=1.23.0 in /usr/local/lib/python3.11/dist-packages (from ultralytics) (1.26.4)\n",
            "Requirement already satisfied: matplotlib>=3.3.0 in /usr/local/lib/python3.11/dist-packages (from ultralytics) (3.10.0)\n",
            "Requirement already satisfied: opencv-python>=4.6.0 in /usr/local/lib/python3.11/dist-packages (from ultralytics) (4.11.0.86)\n",
            "Requirement already satisfied: pillow>=7.1.2 in /usr/local/lib/python3.11/dist-packages (from ultralytics) (11.1.0)\n",
            "Requirement already satisfied: pyyaml>=5.3.1 in /usr/local/lib/python3.11/dist-packages (from ultralytics) (6.0.2)\n",
            "Requirement already satisfied: requests>=2.23.0 in /usr/local/lib/python3.11/dist-packages (from ultralytics) (2.32.3)\n",
            "Requirement already satisfied: scipy>=1.4.1 in /usr/local/lib/python3.11/dist-packages (from ultralytics) (1.13.1)\n",
            "Requirement already satisfied: torch>=1.8.0 in /usr/local/lib/python3.11/dist-packages (from ultralytics) (2.5.1+cpu)\n",
            "Requirement already satisfied: torchvision>=0.9.0 in /usr/local/lib/python3.11/dist-packages (from ultralytics) (0.20.1+cpu)\n",
            "Requirement already satisfied: tqdm>=4.64.0 in /usr/local/lib/python3.11/dist-packages (from ultralytics) (4.67.1)\n",
            "Requirement already satisfied: psutil in /usr/local/lib/python3.11/dist-packages (from ultralytics) (5.9.5)\n",
            "Requirement already satisfied: py-cpuinfo in /usr/local/lib/python3.11/dist-packages (from ultralytics) (9.0.0)\n",
            "Requirement already satisfied: pandas>=1.1.4 in /usr/local/lib/python3.11/dist-packages (from ultralytics) (2.2.2)\n",
            "Requirement already satisfied: ultralytics-thop>=2.0.0 in /usr/local/lib/python3.11/dist-packages (from ultralytics) (2.0.14)\n",
            "Requirement already satisfied: contourpy>=1.0.1 in /usr/local/lib/python3.11/dist-packages (from matplotlib>=3.3.0->ultralytics) (1.3.1)\n",
            "Requirement already satisfied: cycler>=0.10 in /usr/local/lib/python3.11/dist-packages (from matplotlib>=3.3.0->ultralytics) (0.12.1)\n",
            "Requirement already satisfied: fonttools>=4.22.0 in /usr/local/lib/python3.11/dist-packages (from matplotlib>=3.3.0->ultralytics) (4.56.0)\n",
            "Requirement already satisfied: kiwisolver>=1.3.1 in /usr/local/lib/python3.11/dist-packages (from matplotlib>=3.3.0->ultralytics) (1.4.8)\n",
            "Requirement already satisfied: packaging>=20.0 in /usr/local/lib/python3.11/dist-packages (from matplotlib>=3.3.0->ultralytics) (24.2)\n",
            "Requirement already satisfied: pyparsing>=2.3.1 in /usr/local/lib/python3.11/dist-packages (from matplotlib>=3.3.0->ultralytics) (3.2.1)\n",
            "Requirement already satisfied: python-dateutil>=2.7 in /usr/local/lib/python3.11/dist-packages (from matplotlib>=3.3.0->ultralytics) (2.9.0.post0)\n",
            "Requirement already satisfied: pytz>=2020.1 in /usr/local/lib/python3.11/dist-packages (from pandas>=1.1.4->ultralytics) (2025.1)\n",
            "Requirement already satisfied: tzdata>=2022.7 in /usr/local/lib/python3.11/dist-packages (from pandas>=1.1.4->ultralytics) (2025.1)\n",
            "Requirement already satisfied: charset-normalizer<4,>=2 in /usr/local/lib/python3.11/dist-packages (from requests>=2.23.0->ultralytics) (3.4.1)\n",
            "Requirement already satisfied: idna<4,>=2.5 in /usr/local/lib/python3.11/dist-packages (from requests>=2.23.0->ultralytics) (3.10)\n",
            "Requirement already satisfied: urllib3<3,>=1.21.1 in /usr/local/lib/python3.11/dist-packages (from requests>=2.23.0->ultralytics) (2.3.0)\n",
            "Requirement already satisfied: certifi>=2017.4.17 in /usr/local/lib/python3.11/dist-packages (from requests>=2.23.0->ultralytics) (2025.1.31)\n",
            "Requirement already satisfied: filelock in /usr/local/lib/python3.11/dist-packages (from torch>=1.8.0->ultralytics) (3.17.0)\n",
            "Requirement already satisfied: typing-extensions>=4.8.0 in /usr/local/lib/python3.11/dist-packages (from torch>=1.8.0->ultralytics) (4.12.2)\n",
            "Requirement already satisfied: networkx in /usr/local/lib/python3.11/dist-packages (from torch>=1.8.0->ultralytics) (3.4.2)\n",
            "Requirement already satisfied: jinja2 in /usr/local/lib/python3.11/dist-packages (from torch>=1.8.0->ultralytics) (3.1.5)\n",
            "Requirement already satisfied: fsspec in /usr/local/lib/python3.11/dist-packages (from torch>=1.8.0->ultralytics) (2025.2.0)\n",
            "Requirement already satisfied: sympy==1.13.1 in /usr/local/lib/python3.11/dist-packages (from torch>=1.8.0->ultralytics) (1.13.1)\n",
            "Requirement already satisfied: mpmath<1.4,>=1.1.0 in /usr/local/lib/python3.11/dist-packages (from sympy==1.13.1->torch>=1.8.0->ultralytics) (1.3.0)\n",
            "Requirement already satisfied: six>=1.5 in /usr/local/lib/python3.11/dist-packages (from python-dateutil>=2.7->matplotlib>=3.3.0->ultralytics) (1.17.0)\n",
            "Requirement already satisfied: MarkupSafe>=2.0 in /usr/local/lib/python3.11/dist-packages (from jinja2->torch>=1.8.0->ultralytics) (3.0.2)\n"
          ]
        }
      ]
    },
    {
      "cell_type": "code",
      "execution_count": 2,
      "metadata": {
        "id": "T8y3Bbhz-K6c",
        "colab": {
          "base_uri": "https://localhost:8080/"
        },
        "outputId": "ce265e96-5f23-42d4-83fe-74176bd086b2"
      },
      "outputs": [
        {
          "output_type": "stream",
          "name": "stdout",
          "text": [
            "Ultralytics 8.3.152 🚀 Python-3.11.11 torch-2.5.1+cpu CPU (Intel Xeon 2.00GHz)\n",
            "\u001b[34m\u001b[1mengine/trainer: \u001b[0magnostic_nms=False, amp=True, augment=False, auto_augment=randaugment, batch=16, bgr=0.0, box=7.5, cache=False, cfg=None, classes=None, close_mosaic=10, cls=0.5, conf=None, copy_paste=0.0, copy_paste_mode=flip, cos_lr=False, cutmix=0.0, data=/content/drive/MyDrive/Animal Classification/custom_dataset, degrees=0.0, deterministic=True, device=cpu, dfl=1.5, dnn=False, dropout=0.0, dynamic=False, embed=None, epochs=5, erasing=0.4, exist_ok=False, fliplr=0.5, flipud=0.0, format=torchscript, fraction=1.0, freeze=None, half=False, hsv_h=0.015, hsv_s=0.7, hsv_v=0.4, imgsz=640, int8=False, iou=0.7, keras=False, kobj=1.0, line_width=None, lr0=0.01, lrf=0.01, mask_ratio=4, max_det=300, mixup=0.0, mode=train, model=/content/drive/MyDrive/Animal Classification/yolo11s-cls.pt, momentum=0.937, mosaic=1.0, multi_scale=False, name=train3, nbs=64, nms=False, opset=None, optimize=False, optimizer=auto, overlap_mask=True, patience=100, perspective=0.0, plots=True, pose=12.0, pretrained=True, profile=False, project=None, rect=False, resume=False, retina_masks=False, save=True, save_conf=False, save_crop=False, save_dir=runs/classify/train3, save_frames=False, save_json=False, save_period=-1, save_txt=False, scale=0.5, seed=0, shear=0.0, show=False, show_boxes=True, show_conf=True, show_labels=True, simplify=True, single_cls=False, source=None, split=val, stream_buffer=False, task=classify, time=None, tracker=botsort.yaml, translate=0.1, val=True, verbose=True, vid_stride=1, visualize=False, warmup_bias_lr=0.1, warmup_epochs=3.0, warmup_momentum=0.8, weight_decay=0.0005, workers=8, workspace=None\n",
            "\u001b[34m\u001b[1mtrain:\u001b[0m /content/drive/MyDrive/Animal Classification/custom_dataset/train... found 120 images in 3 classes ✅ \n",
            "\u001b[34m\u001b[1mval:\u001b[0m /content/drive/MyDrive/Animal Classification/custom_dataset/val... found 60 images in 3 classes ✅ \n",
            "\u001b[34m\u001b[1mtest:\u001b[0m None...\n",
            "Overriding model.yaml nc=80 with nc=3\n",
            "\n",
            "                   from  n    params  module                                       arguments                     \n",
            "  0                  -1  1       928  ultralytics.nn.modules.conv.Conv             [3, 32, 3, 2]                 \n",
            "  1                  -1  1     18560  ultralytics.nn.modules.conv.Conv             [32, 64, 3, 2]                \n",
            "  2                  -1  1     26080  ultralytics.nn.modules.block.C3k2            [64, 128, 1, False, 0.25]     \n",
            "  3                  -1  1    147712  ultralytics.nn.modules.conv.Conv             [128, 128, 3, 2]              \n",
            "  4                  -1  1    103360  ultralytics.nn.modules.block.C3k2            [128, 256, 1, False, 0.25]    \n",
            "  5                  -1  1    590336  ultralytics.nn.modules.conv.Conv             [256, 256, 3, 2]              \n",
            "  6                  -1  1    346112  ultralytics.nn.modules.block.C3k2            [256, 256, 1, True]           \n",
            "  7                  -1  1   1180672  ultralytics.nn.modules.conv.Conv             [256, 512, 3, 2]              \n",
            "  8                  -1  1   1380352  ultralytics.nn.modules.block.C3k2            [512, 512, 1, True]           \n",
            "  9                  -1  1    990976  ultralytics.nn.modules.block.C2PSA           [512, 512, 1]                 \n",
            " 10                  -1  1    661763  ultralytics.nn.modules.head.Classify         [512, 3]                      \n",
            "YOLO11s-cls summary: 86 layers, 5,446,851 parameters, 5,446,851 gradients, 12.1 GFLOPs\n",
            "Transferred 234/236 items from pretrained weights\n",
            "\u001b[34m\u001b[1mtrain: \u001b[0mFast image access ✅ (ping: 0.3±0.1 ms, read: 7.6±5.9 MB/s, size: 11.7 KB)\n"
          ]
        },
        {
          "output_type": "stream",
          "name": "stderr",
          "text": [
            "\u001b[34m\u001b[1mtrain: \u001b[0mScanning /content/drive/MyDrive/Animal Classification/custom_dataset/train... 120 images, 0 corrupt: 100%|██████████| 120/120 [00:00<?, ?it/s]"
          ]
        },
        {
          "output_type": "stream",
          "name": "stdout",
          "text": [
            "\u001b[34m\u001b[1mval: \u001b[0mFast image access ✅ (ping: 0.4±0.1 ms, read: 8.3±2.2 MB/s, size: 9.6 KB)\n"
          ]
        },
        {
          "output_type": "stream",
          "name": "stderr",
          "text": [
            "\n",
            "\u001b[34m\u001b[1mval: \u001b[0mScanning /content/drive/MyDrive/Animal Classification/custom_dataset/val... 60 images, 0 corrupt: 100%|██████████| 60/60 [00:00<?, ?it/s]"
          ]
        },
        {
          "output_type": "stream",
          "name": "stdout",
          "text": [
            "\u001b[34m\u001b[1moptimizer:\u001b[0m 'optimizer=auto' found, ignoring 'lr0=0.01' and 'momentum=0.937' and determining best 'optimizer', 'lr0' and 'momentum' automatically... \n",
            "\u001b[34m\u001b[1moptimizer:\u001b[0m AdamW(lr=0.001429, momentum=0.9) with parameter groups 39 weight(decay=0.0), 40 weight(decay=0.0005), 40 bias(decay=0.0)\n",
            "Image sizes 640 train, 640 val\n",
            "Using 0 dataloader workers\n",
            "Logging results to \u001b[1mruns/classify/train3\u001b[0m\n",
            "Starting training for 5 epochs...\n",
            "\n",
            "      Epoch    GPU_mem       loss  Instances       Size\n"
          ]
        },
        {
          "output_type": "stream",
          "name": "stderr",
          "text": [
            "\n",
            "        1/5         0G       1.07          8        640: 100%|██████████| 8/8 [00:51<00:00,  6.45s/it]\n",
            "               classes   top1_acc   top5_acc: 100%|██████████| 2/2 [00:08<00:00,  4.40s/it]"
          ]
        },
        {
          "output_type": "stream",
          "name": "stdout",
          "text": [
            "                   all      0.633          1\n"
          ]
        },
        {
          "output_type": "stream",
          "name": "stderr",
          "text": [
            "\n"
          ]
        },
        {
          "output_type": "stream",
          "name": "stdout",
          "text": [
            "\n",
            "      Epoch    GPU_mem       loss  Instances       Size\n"
          ]
        },
        {
          "output_type": "stream",
          "name": "stderr",
          "text": [
            "        2/5         0G       0.84          8        640: 100%|██████████| 8/8 [00:50<00:00,  6.32s/it]\n",
            "               classes   top1_acc   top5_acc: 100%|██████████| 2/2 [00:09<00:00,  4.59s/it]"
          ]
        },
        {
          "output_type": "stream",
          "name": "stdout",
          "text": [
            "                   all        0.8          1\n"
          ]
        },
        {
          "output_type": "stream",
          "name": "stderr",
          "text": [
            "\n"
          ]
        },
        {
          "output_type": "stream",
          "name": "stdout",
          "text": [
            "\n",
            "      Epoch    GPU_mem       loss  Instances       Size\n"
          ]
        },
        {
          "output_type": "stream",
          "name": "stderr",
          "text": [
            "        3/5         0G      0.583          8        640: 100%|██████████| 8/8 [00:49<00:00,  6.15s/it]\n",
            "               classes   top1_acc   top5_acc: 100%|██████████| 2/2 [00:08<00:00,  4.33s/it]"
          ]
        },
        {
          "output_type": "stream",
          "name": "stdout",
          "text": [
            "                   all       0.75          1\n"
          ]
        },
        {
          "output_type": "stream",
          "name": "stderr",
          "text": [
            "\n"
          ]
        },
        {
          "output_type": "stream",
          "name": "stdout",
          "text": [
            "\n",
            "      Epoch    GPU_mem       loss  Instances       Size\n"
          ]
        },
        {
          "output_type": "stream",
          "name": "stderr",
          "text": [
            "        4/5         0G     0.4545          8        640: 100%|██████████| 8/8 [00:48<00:00,  6.06s/it]\n",
            "               classes   top1_acc   top5_acc: 100%|██████████| 2/2 [00:08<00:00,  4.33s/it]"
          ]
        },
        {
          "output_type": "stream",
          "name": "stdout",
          "text": [
            "                   all      0.717          1\n"
          ]
        },
        {
          "output_type": "stream",
          "name": "stderr",
          "text": [
            "\n"
          ]
        },
        {
          "output_type": "stream",
          "name": "stdout",
          "text": [
            "\n",
            "      Epoch    GPU_mem       loss  Instances       Size\n"
          ]
        },
        {
          "output_type": "stream",
          "name": "stderr",
          "text": [
            "        5/5         0G     0.3124          8        640: 100%|██████████| 8/8 [00:48<00:00,  6.01s/it]\n",
            "               classes   top1_acc   top5_acc: 100%|██████████| 2/2 [00:08<00:00,  4.34s/it]"
          ]
        },
        {
          "output_type": "stream",
          "name": "stdout",
          "text": [
            "                   all      0.733          1\n"
          ]
        },
        {
          "output_type": "stream",
          "name": "stderr",
          "text": [
            "\n"
          ]
        },
        {
          "output_type": "stream",
          "name": "stdout",
          "text": [
            "\n",
            "5 epochs completed in 0.082 hours.\n",
            "Optimizer stripped from runs/classify/train3/weights/last.pt, 11.0MB\n",
            "Optimizer stripped from runs/classify/train3/weights/best.pt, 11.0MB\n",
            "\n",
            "Validating runs/classify/train3/weights/best.pt...\n",
            "Ultralytics 8.3.152 🚀 Python-3.11.11 torch-2.5.1+cpu CPU (Intel Xeon 2.00GHz)\n",
            "YOLO11s-cls summary (fused): 47 layers, 5,437,971 parameters, 0 gradients, 12.0 GFLOPs\n",
            "\u001b[34m\u001b[1mtrain:\u001b[0m /content/drive/MyDrive/Animal Classification/custom_dataset/train... found 120 images in 3 classes ✅ \n",
            "\u001b[34m\u001b[1mval:\u001b[0m /content/drive/MyDrive/Animal Classification/custom_dataset/val... found 60 images in 3 classes ✅ \n",
            "\u001b[34m\u001b[1mtest:\u001b[0m None...\n"
          ]
        },
        {
          "output_type": "stream",
          "name": "stderr",
          "text": [
            "               classes   top1_acc   top5_acc: 100%|██████████| 2/2 [00:07<00:00,  3.51s/it]\n"
          ]
        },
        {
          "output_type": "stream",
          "name": "stdout",
          "text": [
            "                   all        0.8          1\n",
            "Speed: 0.0ms preprocess, 93.6ms inference, 0.0ms loss, 0.0ms postprocess per image\n",
            "Results saved to \u001b[1mruns/classify/train3\u001b[0m\n"
          ]
        }
      ],
      "source": [
        "from ultralytics import YOLO\n",
        "\n",
        "model = YOLO(\"/content/drive/MyDrive/Animal Classification/yolo11s-cls.pt\")\n",
        "\n",
        "results = model.train(data = '/content/drive/MyDrive/Animal Classification/custom_dataset', epochs = 5, imgsz = 640)"
      ]
    },
    {
      "cell_type": "code",
      "source": [
        "model = YOLO('runs/classify/train/weights/best.pt')\n",
        "\n",
        "results = model('/content/drive/MyDrive/Animal Classification/test_image', save=True, imgsz = 640, conf = 0.5)"
      ],
      "metadata": {
        "id": "mPIhzKYg_P38",
        "colab": {
          "base_uri": "https://localhost:8080/"
        },
        "outputId": "13294f1b-a8bd-47fb-cc34-ef7e361c628b"
      },
      "execution_count": 6,
      "outputs": [
        {
          "output_type": "stream",
          "name": "stdout",
          "text": [
            "\n",
            "image 1/30 /content/drive/MyDrive/Animal Classification/test_image/0_0991.jpg: 640x640 cats 1.00, dogs 0.00, snakes 0.00, 117.2ms\n",
            "image 2/30 /content/drive/MyDrive/Animal Classification/test_image/0_0992.jpg: 640x640 cats 1.00, snakes 0.00, dogs 0.00, 79.5ms\n",
            "image 3/30 /content/drive/MyDrive/Animal Classification/test_image/0_0993.jpg: 640x640 cats 1.00, dogs 0.00, snakes 0.00, 105.1ms\n",
            "image 4/30 /content/drive/MyDrive/Animal Classification/test_image/0_0994.jpg: 640x640 cats 0.79, dogs 0.19, snakes 0.02, 97.2ms\n",
            "image 5/30 /content/drive/MyDrive/Animal Classification/test_image/0_0995.jpg: 640x640 cats 1.00, dogs 0.00, snakes 0.00, 53.0ms\n",
            "image 6/30 /content/drive/MyDrive/Animal Classification/test_image/0_0996.jpg: 640x640 cats 0.96, dogs 0.04, snakes 0.00, 70.7ms\n",
            "image 7/30 /content/drive/MyDrive/Animal Classification/test_image/0_0997.jpg: 640x640 cats 0.99, dogs 0.01, snakes 0.00, 105.8ms\n",
            "image 8/30 /content/drive/MyDrive/Animal Classification/test_image/0_0998.jpg: 640x640 cats 0.99, snakes 0.01, dogs 0.00, 96.7ms\n",
            "image 9/30 /content/drive/MyDrive/Animal Classification/test_image/0_0999.jpg: 640x640 cats 0.79, snakes 0.14, dogs 0.06, 101.4ms\n",
            "image 10/30 /content/drive/MyDrive/Animal Classification/test_image/0_1000.jpg: 640x640 cats 0.98, dogs 0.02, snakes 0.00, 95.1ms\n",
            "image 11/30 /content/drive/MyDrive/Animal Classification/test_image/1_0991.jpg: 640x640 dogs 1.00, cats 0.00, snakes 0.00, 111.9ms\n",
            "image 12/30 /content/drive/MyDrive/Animal Classification/test_image/1_0992.jpg: 640x640 snakes 0.97, cats 0.02, dogs 0.02, 55.3ms\n",
            "image 13/30 /content/drive/MyDrive/Animal Classification/test_image/1_0993.jpg: 640x640 dogs 1.00, cats 0.00, snakes 0.00, 51.4ms\n",
            "image 14/30 /content/drive/MyDrive/Animal Classification/test_image/1_0994.jpg: 640x640 dogs 1.00, cats 0.00, snakes 0.00, 52.5ms\n",
            "image 15/30 /content/drive/MyDrive/Animal Classification/test_image/1_0995.jpg: 640x640 dogs 1.00, snakes 0.00, cats 0.00, 56.4ms\n",
            "image 16/30 /content/drive/MyDrive/Animal Classification/test_image/1_0996.jpg: 640x640 dogs 1.00, cats 0.00, snakes 0.00, 95.0ms\n",
            "image 17/30 /content/drive/MyDrive/Animal Classification/test_image/1_0997.jpg: 640x640 dogs 0.97, cats 0.03, snakes 0.00, 55.3ms\n",
            "image 18/30 /content/drive/MyDrive/Animal Classification/test_image/1_0998.jpg: 640x640 dogs 1.00, cats 0.00, snakes 0.00, 81.2ms\n",
            "image 19/30 /content/drive/MyDrive/Animal Classification/test_image/1_0999.jpg: 640x640 cats 0.84, dogs 0.13, snakes 0.04, 54.6ms\n",
            "image 20/30 /content/drive/MyDrive/Animal Classification/test_image/1_1000.jpg: 640x640 dogs 1.00, cats 0.00, snakes 0.00, 91.4ms\n",
            "image 21/30 /content/drive/MyDrive/Animal Classification/test_image/2_0991.jpg: 640x640 cats 0.67, snakes 0.32, dogs 0.01, 55.0ms\n",
            "image 22/30 /content/drive/MyDrive/Animal Classification/test_image/2_0992.jpg: 640x640 snakes 1.00, cats 0.00, dogs 0.00, 54.3ms\n",
            "image 23/30 /content/drive/MyDrive/Animal Classification/test_image/2_0993.jpg: 640x640 snakes 0.98, cats 0.02, dogs 0.01, 56.5ms\n",
            "image 24/30 /content/drive/MyDrive/Animal Classification/test_image/2_0994.jpg: 640x640 snakes 0.94, dogs 0.05, cats 0.02, 54.8ms\n",
            "image 25/30 /content/drive/MyDrive/Animal Classification/test_image/2_0995.jpg: 640x640 snakes 0.93, cats 0.07, dogs 0.00, 82.9ms\n",
            "image 26/30 /content/drive/MyDrive/Animal Classification/test_image/2_0996.jpg: 640x640 snakes 1.00, dogs 0.00, cats 0.00, 55.6ms\n",
            "image 27/30 /content/drive/MyDrive/Animal Classification/test_image/2_0997.jpg: 640x640 snakes 0.99, dogs 0.01, cats 0.00, 52.1ms\n",
            "image 28/30 /content/drive/MyDrive/Animal Classification/test_image/2_0998.jpg: 640x640 snakes 1.00, cats 0.00, dogs 0.00, 52.8ms\n",
            "image 29/30 /content/drive/MyDrive/Animal Classification/test_image/2_0999.jpg: 640x640 snakes 0.99, cats 0.00, dogs 0.00, 100.8ms\n",
            "image 30/30 /content/drive/MyDrive/Animal Classification/test_image/2_1000.jpg: 640x640 snakes 0.74, cats 0.26, dogs 0.00, 112.4ms\n",
            "Speed: 8.3ms preprocess, 76.8ms inference, 0.1ms postprocess per image at shape (1, 3, 640, 640)\n",
            "Results saved to \u001b[1mruns/classify/predict\u001b[0m\n"
          ]
        }
      ]
    }
  ]
}